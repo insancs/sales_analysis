{
 "cells": [
  {
   "cell_type": "code",
   "execution_count": 1,
   "id": "negative-ghana",
   "metadata": {},
   "outputs": [
    {
     "name": "stdout",
     "output_type": "stream",
     "text": [
      "   index  store type  department        date  weekly_sales  is_holiday  \\\n",
      "0      0      1    A           1  2010-02-05      24924.50       False   \n",
      "1      1      1    A           1  2010-03-05      21827.90       False   \n",
      "2      2      1    A           1  2010-04-02      57258.43       False   \n",
      "3      3      1    A           1  2010-05-07      17413.94       False   \n",
      "4      4      1    A           1  2010-06-04      17558.09       False   \n",
      "\n",
      "   temperature_c  fuel_price_usd_per_l  unemployment  \n",
      "0       5.727778              0.679451         8.106  \n",
      "1       8.055556              0.693452         8.106  \n",
      "2      16.816667              0.718284         7.808  \n",
      "3      22.527778              0.748928         7.808  \n",
      "4      27.050000              0.714586         7.808  \n"
     ]
    }
   ],
   "source": [
    "import pandas as pd\n",
    "import matplotlib.pyplot as plt\n",
    "import numpy as np\n",
    "\n",
    "sales = pd.read_csv('E:/DQLab/Dataset/sales_subset.csv', sep=',')\n",
    "print(sales.head())"
   ]
  },
  {
   "cell_type": "code",
   "execution_count": 2,
   "id": "tight-manufacturer",
   "metadata": {},
   "outputs": [
    {
     "name": "stdout",
     "output_type": "stream",
     "text": [
      "<class 'pandas.core.frame.DataFrame'>\n",
      "RangeIndex: 10774 entries, 0 to 10773\n",
      "Data columns (total 10 columns):\n",
      " #   Column                Non-Null Count  Dtype  \n",
      "---  ------                --------------  -----  \n",
      " 0   index                 10774 non-null  int64  \n",
      " 1   store                 10774 non-null  int64  \n",
      " 2   type                  10774 non-null  object \n",
      " 3   department            10774 non-null  int64  \n",
      " 4   date                  10774 non-null  object \n",
      " 5   weekly_sales          10774 non-null  float64\n",
      " 6   is_holiday            10774 non-null  bool   \n",
      " 7   temperature_c         10774 non-null  float64\n",
      " 8   fuel_price_usd_per_l  10774 non-null  float64\n",
      " 9   unemployment          10774 non-null  float64\n",
      "dtypes: bool(1), float64(4), int64(3), object(2)\n",
      "memory usage: 768.2+ KB\n",
      "None\n"
     ]
    }
   ],
   "source": [
    "# Print sales information  \n",
    "print(sales.info())"
   ]
  },
  {
   "cell_type": "code",
   "execution_count": 3,
   "id": "united-treasury",
   "metadata": {},
   "outputs": [],
   "source": [
    "sales = sales.drop('index', axis=1)"
   ]
  },
  {
   "cell_type": "code",
   "execution_count": 4,
   "id": "middle-washington",
   "metadata": {},
   "outputs": [
    {
     "name": "stdout",
     "output_type": "stream",
     "text": [
      "<class 'pandas.core.frame.DataFrame'>\n",
      "RangeIndex: 10774 entries, 0 to 10773\n",
      "Data columns (total 9 columns):\n",
      " #   Column                Non-Null Count  Dtype         \n",
      "---  ------                --------------  -----         \n",
      " 0   store                 10774 non-null  int64         \n",
      " 1   type                  10774 non-null  object        \n",
      " 2   department            10774 non-null  int64         \n",
      " 3   date                  10774 non-null  datetime64[ns]\n",
      " 4   weekly_sales          10774 non-null  float64       \n",
      " 5   is_holiday            10774 non-null  bool          \n",
      " 6   temperature_c         10774 non-null  float64       \n",
      " 7   fuel_price_usd_per_l  10774 non-null  float64       \n",
      " 8   unemployment          10774 non-null  float64       \n",
      "dtypes: bool(1), datetime64[ns](1), float64(4), int64(2), object(1)\n",
      "memory usage: 684.0+ KB\n",
      "None\n"
     ]
    }
   ],
   "source": [
    "# Convert date column to datetime data type\n",
    "sales['date'] = pd.to_datetime(sales['date'])\n",
    "\n",
    "print(sales.info())"
   ]
  },
  {
   "cell_type": "code",
   "execution_count": 51,
   "id": "classified-decision",
   "metadata": {},
   "outputs": [
    {
     "name": "stdout",
     "output_type": "stream",
     "text": [
      "              store    department   weekly_sales  temperature_c  \\\n",
      "count  10774.000000  10774.000000   10774.000000   10774.000000   \n",
      "mean      15.441897     45.218118   23843.950149      15.731978   \n",
      "std       11.534511     29.867779   30220.387557       9.922446   \n",
      "min        1.000000      1.000000   -1098.000000      -8.366667   \n",
      "25%        4.000000     20.000000    3867.115000       7.583333   \n",
      "50%       13.000000     40.000000   12049.065000      16.966667   \n",
      "75%       20.000000     72.000000   32349.850000      24.166667   \n",
      "max       39.000000     99.000000  293966.050000      33.827778   \n",
      "\n",
      "       fuel_price_usd_per_l  unemployment  \n",
      "count          10774.000000  10774.000000  \n",
      "mean               0.749746      8.082009  \n",
      "std                0.059494      0.624355  \n",
      "min                0.664129      3.879000  \n",
      "25%                0.708246      7.795000  \n",
      "50%                0.743381      8.099000  \n",
      "75%                0.781421      8.360000  \n",
      "max                1.107674      9.765000  \n"
     ]
    }
   ],
   "source": [
    "print(sales.describe())"
   ]
  },
  {
   "cell_type": "code",
   "execution_count": 52,
   "id": "tight-michigan",
   "metadata": {},
   "outputs": [
    {
     "name": "stdout",
     "output_type": "stream",
     "text": [
      "Last sales : 2012-10-26 00:00:00\n",
      "First sales : 2010-02-05 00:00:00\n"
     ]
    }
   ],
   "source": [
    "# Print the maximum of the date column\n",
    "print(\"Last sales :\", sales[\"date\"].max())\n",
    "\n",
    "# Print the minimum of the date column\n",
    "print(\"First sales :\", sales[\"date\"].min())"
   ]
  },
  {
   "cell_type": "code",
   "execution_count": 6,
   "id": "amazing-offering",
   "metadata": {},
   "outputs": [
    {
     "name": "stdout",
     "output_type": "stream",
     "text": [
      "temperature_c           16.583333\n",
      "fuel_price_usd_per_l     0.073176\n",
      "unemployment             0.565000\n",
      "dtype: float64\n"
     ]
    }
   ],
   "source": [
    "# A custom IQR function\n",
    "def iqr(column):\n",
    "    return column.quantile(0.75) - column.quantile(0.25)\n",
    "\n",
    "# Update to print IQR of temperature_c, fuel_price_usd_per_l, & unemployment\n",
    "print(sales[[\"temperature_c\", \"fuel_price_usd_per_l\", \"unemployment\"]].agg(iqr))"
   ]
  },
  {
   "cell_type": "code",
   "execution_count": 7,
   "id": "subsequent-weekly",
   "metadata": {},
   "outputs": [
    {
     "name": "stdout",
     "output_type": "stream",
     "text": [
      "    store type  department       date  weekly_sales  is_holiday  \\\n",
      "0       1    A           1 2010-02-05      24924.50       False   \n",
      "1       1    A           1 2010-03-05      21827.90       False   \n",
      "2       1    A           1 2010-04-02      57258.43       False   \n",
      "3       1    A           1 2010-05-07      17413.94       False   \n",
      "4       1    A           1 2010-06-04      17558.09       False   \n",
      "5       1    A           1 2010-07-02      16333.14       False   \n",
      "6       1    A           1 2010-08-06      17508.41       False   \n",
      "7       1    A           1 2010-09-03      16241.78       False   \n",
      "8       1    A           1 2010-10-01      20094.19       False   \n",
      "9       1    A           1 2010-11-05      34238.88       False   \n",
      "10      1    A           1 2010-12-03      22517.56       False   \n",
      "11      1    A           1 2011-01-07      15984.24       False   \n",
      "\n",
      "    temperature_c  fuel_price_usd_per_l  unemployment  \n",
      "0        5.727778              0.679451         8.106  \n",
      "1        8.055556              0.693452         8.106  \n",
      "2       16.816667              0.718284         7.808  \n",
      "3       22.527778              0.748928         7.808  \n",
      "4       27.050000              0.714586         7.808  \n",
      "5       27.172222              0.705076         7.787  \n",
      "6       30.644444              0.693980         7.787  \n",
      "7       27.338889              0.680772         7.787  \n",
      "8       22.161111              0.687640         7.838  \n",
      "9       14.855556              0.710359         7.838  \n",
      "10       9.594444              0.715378         7.838  \n",
      "11       9.038889              0.786176         7.742  \n"
     ]
    }
   ],
   "source": [
    "sales_1_1 = sales[(sales['store'] == 1) & (sales['department'] == 1)]\n",
    "print(sales_1_1)"
   ]
  },
  {
   "cell_type": "code",
   "execution_count": 53,
   "id": "detailed-information",
   "metadata": {},
   "outputs": [
    {
     "name": "stdout",
     "output_type": "stream",
     "text": [
      "         date  weekly_sales  cum_weekly_sales  cum_max_sales\n",
      "0  2010-02-05      24924.50          24924.50       24924.50\n",
      "1  2010-03-05      21827.90          46752.40       24924.50\n",
      "2  2010-04-02      57258.43         104010.83       57258.43\n",
      "3  2010-05-07      17413.94         121424.77       57258.43\n",
      "4  2010-06-04      17558.09         138982.86       57258.43\n",
      "5  2010-07-02      16333.14         155316.00       57258.43\n",
      "6  2010-08-06      17508.41         172824.41       57258.43\n",
      "7  2010-09-03      16241.78         189066.19       57258.43\n",
      "8  2010-10-01      20094.19         209160.38       57258.43\n",
      "9  2010-11-05      34238.88         243399.26       57258.43\n",
      "10 2010-12-03      22517.56         265916.82       57258.43\n",
      "11 2011-01-07      15984.24         281901.06       57258.43\n"
     ]
    }
   ],
   "source": [
    "# Sort sales_1_1 by date\n",
    "sales_1_1 = sales_1_1.sort_values(\"date\")\n",
    "\n",
    "# Get the cumulative sum of weekly_sales, add as cum_weekly_sales col\n",
    "sales_1_1[\"cum_weekly_sales\"] = sales[\"weekly_sales\"].cumsum()\n",
    "\n",
    "# Get the cumulative max of weekly_sales, add as cum_max_sales col\n",
    "sales_1_1[\"cum_max_sales\"] = sales[\"weekly_sales\"].cummax()\n",
    "\n",
    "# See the columns you calculated\n",
    "print(sales_1_1[[\"date\", \"weekly_sales\", \"cum_weekly_sales\", \"cum_max_sales\"]])"
   ]
  },
  {
   "cell_type": "code",
   "execution_count": 54,
   "id": "closed-appliance",
   "metadata": {},
   "outputs": [
    {
     "name": "stdout",
     "output_type": "stream",
     "text": [
      "      store type  department       date  weekly_sales  is_holiday  \\\n",
      "0         1    A           1 2010-02-05      24924.50       False   \n",
      "901       2    A           1 2010-02-05      35034.06       False   \n",
      "1798      4    A           1 2010-02-05      38724.42       False   \n",
      "2699      6    A           1 2010-02-05      25619.00       False   \n",
      "3593     10    B           1 2010-02-05      40212.84       False   \n",
      "4495     13    A           1 2010-02-05      46761.90       False   \n",
      "5408     14    A           1 2010-02-05      32842.31       False   \n",
      "6293     19    A           1 2010-02-05      21500.58       False   \n",
      "7199     20    A           1 2010-02-05      46021.21       False   \n",
      "8109     27    A           1 2010-02-05      32313.79       False   \n",
      "9009     31    A           1 2010-02-05      18187.71       False   \n",
      "9899     39    A           1 2010-02-05      21244.50       False   \n",
      "\n",
      "      temperature_c  fuel_price_usd_per_l  unemployment  \n",
      "0          5.727778              0.679451         8.106  \n",
      "901        4.550000              0.679451         8.324  \n",
      "1798       6.533333              0.686319         8.623  \n",
      "2699       4.683333              0.679451         7.259  \n",
      "3593      12.411111              0.782478         9.765  \n",
      "4495      -0.261111              0.704283         8.316  \n",
      "5408      -2.605556              0.735455         8.992  \n",
      "6293      -6.133333              0.780365         8.350  \n",
      "7199      -3.377778              0.735455         8.187  \n",
      "8109      -2.672222              0.780365         8.237  \n",
      "9009       3.916667              0.679451         8.324  \n",
      "9899       6.833333              0.679451         8.554  \n"
     ]
    }
   ],
   "source": [
    "# Drop duplicate store/type combinations\n",
    "store_types = sales.drop_duplicates(subset=[\"store\", \"type\"])\n",
    "print(store_types)"
   ]
  },
  {
   "cell_type": "code",
   "execution_count": 24,
   "id": "convenient-debate",
   "metadata": {},
   "outputs": [
    {
     "name": "stdout",
     "output_type": "stream",
     "text": [
      "    store type  department       date  weekly_sales  is_holiday  \\\n",
      "0       1    A           1 2010-02-05      24924.50       False   \n",
      "12      1    A           2 2010-02-05      50605.27       False   \n",
      "24      1    A           3 2010-02-05      13740.12       False   \n",
      "36      1    A           4 2010-02-05      39954.04       False   \n",
      "48      1    A           5 2010-02-05      32229.38       False   \n",
      "\n",
      "    temperature_c  fuel_price_usd_per_l  unemployment  \n",
      "0        5.727778              0.679451         8.106  \n",
      "12       5.727778              0.679451         8.106  \n",
      "24       5.727778              0.679451         8.106  \n",
      "36       5.727778              0.679451         8.106  \n",
      "48       5.727778              0.679451         8.106  \n"
     ]
    }
   ],
   "source": [
    "# Drop duplicate store/department combinations\n",
    "store_depts = sales.drop_duplicates(subset=[\"store\", \"department\"])\n",
    "print(store_depts.head())"
   ]
  },
  {
   "cell_type": "code",
   "execution_count": 60,
   "id": "ahead-hello",
   "metadata": {},
   "outputs": [
    {
     "name": "stdout",
     "output_type": "stream",
     "text": [
      "Store type count:\n",
      " A    9872\n",
      "B     902\n",
      "Name: type, dtype: int64\n",
      "Store type proportion :\n",
      " A    0.91628\n",
      "B    0.08372\n",
      "Name: type, dtype: float64\n"
     ]
    }
   ],
   "source": [
    "# Count the number of stores of each type\n",
    "store_counts = sales[\"type\"].value_counts()\n",
    "print(\"Store type count:\\n\", store_counts)\n",
    "\n",
    "# Get the proportion of stores of each type\n",
    "store_props = sales[\"type\"].value_counts(normalize=True)\n",
    "print(\"Store type proportion :\\n\", store_props)"
   ]
  },
  {
   "cell_type": "code",
   "execution_count": 61,
   "id": "fabulous-indianapolis",
   "metadata": {},
   "outputs": [
    {
     "name": "stdout",
     "output_type": "stream",
     "text": [
      "Department count :\n",
      " 95    144\n",
      "91    144\n",
      "18    144\n",
      "26    144\n",
      "34    144\n",
      "     ... \n",
      "50     72\n",
      "78     56\n",
      "77     39\n",
      "39      7\n",
      "43      2\n",
      "Name: department, Length: 80, dtype: int64\n",
      "Department proportion :\n",
      " 95    0.013366\n",
      "91    0.013366\n",
      "18    0.013366\n",
      "26    0.013366\n",
      "34    0.013366\n",
      "        ...   \n",
      "50    0.006683\n",
      "78    0.005198\n",
      "77    0.003620\n",
      "39    0.000650\n",
      "43    0.000186\n",
      "Name: department, Length: 80, dtype: float64\n"
     ]
    }
   ],
   "source": [
    "# Count the number of each department number and sort\n",
    "dept_counts_sorted = sales[\"department\"].value_counts(sort=True)\n",
    "print(\"Department count :\\n\", dept_counts_sorted)\n",
    "\n",
    "# Get the proportion of departments of each number and sort\n",
    "dept_props_sorted = sales[\"department\"].value_counts(sort=True, normalize=True)\n",
    "print(\"Department proportion :\\n\", dept_props_sorted)"
   ]
  },
  {
   "cell_type": "code",
   "execution_count": 66,
   "id": "established-locator",
   "metadata": {},
   "outputs": [
    {
     "name": "stdout",
     "output_type": "stream",
     "text": [
      "type\n",
      "A    2.337163e+08\n",
      "B    2.317840e+07\n",
      "Name: weekly_sales, dtype: float64\n",
      "type\n",
      "A    0.909775\n",
      "B    0.090225\n",
      "Name: weekly_sales, dtype: float64\n"
     ]
    }
   ],
   "source": [
    "# Group by type; calc total weekly sales\n",
    "sales_by_type = sales.groupby(\"type\")[\"weekly_sales\"].sum()\n",
    "print(sales_by_type)\n",
    "\n",
    "# Get proportion for each type\n",
    "sales_propn_by_type = sales_by_type / sum(sales_by_type)\n",
    "print(sales_propn_by_type)"
   ]
  },
  {
   "cell_type": "code",
   "execution_count": 67,
   "id": "twelve-therapist",
   "metadata": {},
   "outputs": [
    {
     "name": "stdout",
     "output_type": "stream",
     "text": [
      "type  is_holiday\n",
      "A     False         2.336927e+08\n",
      "      True          2.360181e+04\n",
      "B     False         2.317678e+07\n",
      "      True          1.621410e+03\n",
      "Name: weekly_sales, dtype: float64\n"
     ]
    }
   ],
   "source": [
    "# Group by type and is_holiday; calc total weekly sales\n",
    "sales_by_type_is_holiday = sales.groupby([\"type\", \"is_holiday\"])[\"weekly_sales\"].sum()\n",
    "print(sales_by_type_is_holiday)"
   ]
  },
  {
   "cell_type": "code",
   "execution_count": 69,
   "id": "flush-donor",
   "metadata": {},
   "outputs": [
    {
     "name": "stdout",
     "output_type": "stream",
     "text": [
      "        amin       amax          mean    median\n",
      "type                                           \n",
      "A    -1098.0  293966.05  23674.667242  11943.92\n",
      "B     -798.0  232558.51  25696.678370  13336.08\n"
     ]
    }
   ],
   "source": [
    "# For each store type, aggregate weekly_sales: get min, max, mean, and median\n",
    "sales_stats = sales.groupby(\"type\")[\"weekly_sales\"].agg([np.min, np.max, np.mean, np.median])\n",
    "\n",
    "# Print sales_stats\n",
    "print(sales_stats)"
   ]
  },
  {
   "cell_type": "code",
   "execution_count": 70,
   "id": "tight-duncan",
   "metadata": {},
   "outputs": [
    {
     "name": "stdout",
     "output_type": "stream",
     "text": [
      "     unemployment                         fuel_price_usd_per_l            \\\n",
      "              min    max      mean median                  min       max   \n",
      "type                                                                       \n",
      "A           3.879  8.992  7.972611  8.067             0.664129  1.107410   \n",
      "B           7.170  9.765  9.279323  9.199             0.760023  1.107674   \n",
      "\n",
      "                          \n",
      "          mean    median  \n",
      "type                      \n",
      "A     0.744619  0.735455  \n",
      "B     0.805858  0.803348  \n"
     ]
    }
   ],
   "source": [
    "# For each store type, aggregate unemployment and fuel_price_usd_per_l: get min, max, mean, and median\n",
    "unemp_fuel_stats = sales.groupby(\"type\")[[\"unemployment\", \"fuel_price_usd_per_l\"]].agg([min, max, np.mean, np.median])\n",
    "\n",
    "# Print unemp_fuel_stats\n",
    "print(unemp_fuel_stats)"
   ]
  },
  {
   "cell_type": "code",
   "execution_count": 14,
   "id": "civil-fifty",
   "metadata": {},
   "outputs": [
    {
     "name": "stdout",
     "output_type": "stream",
     "text": [
      "      weekly_sales\n",
      "type              \n",
      "A     23674.667242\n",
      "B     25696.678370\n"
     ]
    }
   ],
   "source": [
    "# Pivot for mean weekly_sales for each store type\n",
    "mean_sales_by_type = sales.pivot_table(index=\"type\", values=\"weekly_sales\")\n",
    "\n",
    "# Print mean_sales_by_type\n",
    "print(mean_sales_by_type)"
   ]
  },
  {
   "cell_type": "code",
   "execution_count": 15,
   "id": "sapphire-grill",
   "metadata": {},
   "outputs": [
    {
     "name": "stdout",
     "output_type": "stream",
     "text": [
      "is_holiday         False      True \n",
      "type                               \n",
      "A           23768.583523  590.04525\n",
      "B           25751.980533  810.70500\n"
     ]
    }
   ],
   "source": [
    "# Pivot for mean weekly_sales by store type and holiday \n",
    "mean_sales_by_type_holiday = sales.pivot_table(index=\"type\", columns=\"is_holiday\", values=\"weekly_sales\")\n",
    "\n",
    "# Print mean_sales_by_type_holiday\n",
    "print(mean_sales_by_type_holiday)"
   ]
  },
  {
   "cell_type": "code",
   "execution_count": 16,
   "id": "accessible-anchor",
   "metadata": {},
   "outputs": [
    {
     "name": "stdout",
     "output_type": "stream",
     "text": [
      "type                    A              B\n",
      "department                              \n",
      "1            30961.725379   44050.626667\n",
      "2            67600.158788  112958.526667\n",
      "3            17160.002955   30580.655000\n",
      "4            44285.399091   51219.654167\n",
      "5            34821.011364   63236.875000\n",
      "...                   ...            ...\n",
      "95          123933.787121   77082.102500\n",
      "96           21367.042857    9528.538333\n",
      "97           28471.266970    5828.873333\n",
      "98           12875.423182     217.428333\n",
      "99             379.123659       0.000000\n",
      "\n",
      "[80 rows x 2 columns]\n"
     ]
    }
   ],
   "source": [
    "# Print mean weekly_sales by department and type; fill missing values with 0\n",
    "print(sales.pivot_table(index=\"department\", columns=\"type\", values=\"weekly_sales\", fill_value=0))"
   ]
  },
  {
   "cell_type": "code",
   "execution_count": 17,
   "id": "based-return",
   "metadata": {},
   "outputs": [
    {
     "name": "stdout",
     "output_type": "stream",
     "text": [
      "type                   A              B           All\n",
      "department                                           \n",
      "1           30961.725379   44050.626667  32052.467153\n",
      "2           67600.158788  112958.526667  71380.022778\n",
      "3           17160.002955   30580.655000  18278.390625\n",
      "4           44285.399091   51219.654167  44863.253681\n",
      "5           34821.011364   63236.875000  37189.000000\n",
      "...                  ...            ...           ...\n",
      "96          21367.042857    9528.538333  20337.607681\n",
      "97          28471.266970    5828.873333  26584.400833\n",
      "98          12875.423182     217.428333  11820.590278\n",
      "99            379.123659       0.000000    379.123659\n",
      "All         23674.667242   25696.678370  23843.950149\n",
      "\n",
      "[81 rows x 3 columns]\n"
     ]
    }
   ],
   "source": [
    "# Print the mean weekly_sales by department and type; fill missing values with 0s; sum all rows and cols\n",
    "print(sales.pivot_table(index=\"department\", columns=\"type\", values=\"weekly_sales\", fill_value=0, margins=True))"
   ]
  },
  {
   "cell_type": "code",
   "execution_count": 18,
   "id": "ancient-cardiff",
   "metadata": {},
   "outputs": [
    {
     "name": "stdout",
     "output_type": "stream",
     "text": [
      "            store type  department  weekly_sales  is_holiday  temperature_c  \\\n",
      "date                                                                          \n",
      "2010-02-05      1    A           1      24924.50       False       5.727778   \n",
      "2010-03-05      1    A           1      21827.90       False       8.055556   \n",
      "2010-04-02      1    A           1      57258.43       False      16.816667   \n",
      "2010-05-07      1    A           1      17413.94       False      22.527778   \n",
      "2010-06-04      1    A           1      17558.09       False      27.050000   \n",
      "...           ...  ...         ...           ...         ...            ...   \n",
      "2011-12-09     39    A          99        895.00       False       9.644444   \n",
      "2012-02-03     39    A          99        350.00       False      15.938889   \n",
      "2012-06-08     39    A          99        450.00       False      27.288889   \n",
      "2012-07-13     39    A          99          0.06       False      25.644444   \n",
      "2012-10-05     39    A          99        915.00       False      22.250000   \n",
      "\n",
      "            fuel_price_usd_per_l  unemployment  \n",
      "date                                            \n",
      "2010-02-05              0.679451         8.106  \n",
      "2010-03-05              0.693452         8.106  \n",
      "2010-04-02              0.718284         7.808  \n",
      "2010-05-07              0.748928         7.808  \n",
      "2010-06-04              0.714586         7.808  \n",
      "...                          ...           ...  \n",
      "2011-12-09              0.834256         7.716  \n",
      "2012-02-03              0.887619         7.244  \n",
      "2012-06-08              0.911922         6.989  \n",
      "2012-07-13              0.860145         6.623  \n",
      "2012-10-05              0.955511         6.228  \n",
      "\n",
      "[10774 rows x 8 columns]\n"
     ]
    }
   ],
   "source": [
    "salesDateIndex = sales.set_index('date')\n",
    "print(salesDateIndex)"
   ]
  },
  {
   "cell_type": "code",
   "execution_count": 19,
   "id": "behind-structure",
   "metadata": {},
   "outputs": [
    {
     "name": "stdout",
     "output_type": "stream",
     "text": [
      "date\n",
      "2012-10-31    492.111333\n",
      "2012-02-29    241.396111\n",
      "2012-09-30    154.360000\n",
      "2012-06-30     85.561250\n",
      "2012-04-30     81.712727\n",
      "2012-01-31     76.886667\n",
      "2012-05-31     54.805000\n",
      "2012-03-31     52.526250\n",
      "2012-07-31     10.452500\n",
      "2012-08-31    -40.168571\n",
      "Name: weekly_sales, dtype: float64\n"
     ]
    }
   ],
   "source": [
    "weekly_sales2012 = salesDateIndex.loc['2012-01':'2012-12',:].resample('M')['weekly_sales'].mean()\n",
    "print(weekly_sales2012.sort_values(ascending=False))"
   ]
  },
  {
   "cell_type": "code",
   "execution_count": 37,
   "id": "stable-schedule",
   "metadata": {},
   "outputs": [
    {
     "data": {
      "image/png": "[encoded data removed]",
      "text/plain": [
       "<Figure size 432x288 with 1 Axes>"
      ]
     },
     "metadata": {
      "needs_background": "light"
     },
     "output_type": "display_data"
    }
   ],
   "source": [
    "weekly_sales2012.plot()\n",
    "plt.title(\"Weekly Sales 2012 per Month\")\n",
    "plt.xlabel('Month')\n",
    "plt.ylabel('Weekly Sales')\n",
    "plt.show()"
   ]
  },
  {
   "cell_type": "code",
   "execution_count": 32,
   "id": "finished-monte",
   "metadata": {},
   "outputs": [
    {
     "name": "stdout",
     "output_type": "stream",
     "text": [
      "date\n",
      "2010-04-30    26233.064359\n",
      "2010-12-31    25943.827959\n",
      "2010-06-30    25929.632923\n",
      "2010-02-28    25687.334612\n",
      "2010-05-31    25051.821370\n",
      "2010-07-31    24849.061556\n",
      "2010-08-31    24653.145092\n",
      "2010-09-30    24143.179197\n",
      "2010-11-30    23847.001187\n",
      "2010-03-31    23680.214688\n",
      "2010-10-31    21973.659168\n",
      "Name: weekly_sales, dtype: float64\n"
     ]
    }
   ],
   "source": [
    "weekly_sales2010 = salesDateIndex.loc['2010-01':'2010-12',:].resample('M')['weekly_sales'].mean()\n",
    "print(weekly_sales2010.sort_values(ascending=False))"
   ]
  },
  {
   "cell_type": "code",
   "execution_count": 38,
   "id": "pregnant-isaac",
   "metadata": {},
   "outputs": [
    {
     "data": {
      "image/png": "[encoded data removed]",
      "text/plain": [
       "<Figure size 432x288 with 1 Axes>"
      ]
     },
     "metadata": {
      "needs_background": "light"
     },
     "output_type": "display_data"
    }
   ],
   "source": [
    "weekly_sales2010.plot()\n",
    "plt.title(\"Weekly Sales 2010 per Month\")\n",
    "plt.xlabel('Month')\n",
    "plt.ylabel('Weekly Sales')\n",
    "plt.show()"
   ]
  },
  {
   "cell_type": "code",
   "execution_count": 34,
   "id": "molecular-synthetic",
   "metadata": {},
   "outputs": [
    {
     "name": "stdout",
     "output_type": "stream",
     "text": [
      "date\n",
      "2011-01-31    21839.340577\n",
      "2011-02-28     4860.688333\n",
      "2011-06-30     2749.965882\n",
      "2011-04-30     2365.484286\n",
      "2011-05-31     2039.074444\n",
      "2011-03-31     1879.304737\n",
      "2011-11-30      917.436071\n",
      "2011-12-31      368.390690\n",
      "2011-08-31      278.871852\n",
      "2011-09-30      128.611111\n",
      "2011-07-31       46.836000\n",
      "2011-10-31       41.252857\n",
      "Name: weekly_sales, dtype: float64\n"
     ]
    }
   ],
   "source": [
    "weekly_sales2011 = salesDateIndex.loc['2011-01':'2011-12',:].resample('M')['weekly_sales'].mean()\n",
    "print(weekly_sales2011.sort_values(ascending=False))"
   ]
  },
  {
   "cell_type": "code",
   "execution_count": 39,
   "id": "postal-assault",
   "metadata": {},
   "outputs": [
    {
     "data": {
      "image/png": "[encoded data removed]",
      "text/plain": [
       "<Figure size 432x288 with 1 Axes>"
      ]
     },
     "metadata": {
      "needs_background": "light"
     },
     "output_type": "display_data"
    }
   ],
   "source": [
    "weekly_sales2011.plot()\n",
    "plt.title(\"Weekly Sales 2011 per Month\")\n",
    "plt.xlabel('Month')\n",
    "plt.ylabel('Weekly Sales')\n",
    "plt.show()"
   ]
  }
 ],
 "metadata": {
  "kernelspec": {
   "display_name": "Python 3",
   "language": "python",
   "name": "python3"
  },
  "language_info": {
   "codemirror_mode": {
    "name": "ipython",
    "version": 3
   },
   "file_extension": ".py",
   "mimetype": "text/x-python",
   "name": "python",
   "nbconvert_exporter": "python",
   "pygments_lexer": "ipython3",
   "version": "3.8.2"
  }
 },
 "nbformat": 4,
 "nbformat_minor": 5
}
